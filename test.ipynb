{
 "cells": [
  {
   "cell_type": "code",
   "execution_count": 4,
   "id": "e5fbf276",
   "metadata": {},
   "outputs": [],
   "source": [
    "import mcp"
   ]
  },
  {
   "cell_type": "code",
   "execution_count": 5,
   "id": "d772cc17",
   "metadata": {},
   "outputs": [
    {
     "name": "stdout",
     "output_type": "stream",
     "text": [
      "\u001b[33muser\u001b[0m (to chat_manager):\n",
      "\n",
      "Plan a city break in Barcelona for 2 adults, from 5 July 2025 to 7 July 2025. We love plan the travel route by map agent, plan booking by booking agent, we love vegetarian food. Budget €150 pp per night.\n",
      "\n",
      "--------------------------------------------------------------------------------\n",
      "\u001b[32m\n",
      "Next speaker: planner\n",
      "\u001b[0m\n",
      "\u001b[31m\n",
      ">>>>>>>> USING AUTO REPLY...\u001b[0m\n",
      "\u001b[33mplanner\u001b[0m (to chat_manager):\n",
      "\n",
      "Let's gather the necessary information to create a comprehensive plan for your city break in Barcelona. \n",
      "\n",
      "1. **Travel Route**: I will defer to MapAgent for the best travel route options to Barcelona.\n",
      "2. **Accommodation**: I will defer to BookingAgent to find suitable accommodation within your budget of €150 per person per night.\n",
      "3. **Vegetarian Food**: I will gather some recommendations for vegetarian restaurants in Barcelona.\n",
      "\n",
      "Now, I will ask MapAgent to provide the best travel route options to Barcelona, and BookingAgent to find suitable accommodations.\n",
      "\n",
      "### Final Plan\n",
      "1. **Travel Route**: MapAgent, please provide the best travel route options to Barcelona for the specified dates.\n",
      "2. **Accommodation**: BookingAgent, please find accommodations for 2 adults from 5 July 2025 to 7 July 2025, within a budget of €150 per person per night.\n",
      "3. **Vegetarian Food**: I will compile a list of recommended vegetarian restaurants in Barcelona. \n",
      "\n",
      "Let's proceed with MapAgent and BookingAgent for the next steps.\n",
      "\n",
      "--------------------------------------------------------------------------------\n",
      "\u001b[32m\n",
      "Next speaker: map_agent\n",
      "\u001b[0m\n",
      "\u001b[31m\n",
      ">>>>>>>> USING AUTO REPLY...\u001b[0m\n",
      "\u001b[33mmap_agent\u001b[0m (to chat_manager):\n",
      "\n",
      "DEFER_TO_PLANNER.\n",
      "\n",
      "--------------------------------------------------------------------------------\n",
      "\u001b[31m\n",
      ">>>>>>>> TERMINATING RUN (621fb287-692f-44cb-860a-b7a6d687bc2b): Maximum rounds (3) reached\u001b[0m\n"
     ]
    }
   ],
   "source": [
    "import mcp\n",
    "manager = mcp.plan_city_break(\n",
    "    destination=\"Barcelona\",\n",
    "    start_date=\"5 July 2025\",\n",
    "    end_date=\"7 July 2025\",\n",
    "    adults=2,\n",
    "    preferences=\"plan the travel route by map agent, plan booking by booking agent, we love vegetarian food\",\n",
    "    budget_pp=150,\n",
    "    work_dir=\"scratch\",\n",
    ")\n"
   ]
  }
 ],
 "metadata": {
  "kernelspec": {
   "display_name": "mcphack",
   "language": "python",
   "name": "python3"
  },
  "language_info": {
   "codemirror_mode": {
    "name": "ipython",
    "version": 3
   },
   "file_extension": ".py",
   "mimetype": "text/x-python",
   "name": "python",
   "nbconvert_exporter": "python",
   "pygments_lexer": "ipython3",
   "version": "3.13.2"
  }
 },
 "nbformat": 4,
 "nbformat_minor": 5
}
