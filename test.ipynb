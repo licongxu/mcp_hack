{
 "cells": [
  {
   "cell_type": "code",
   "execution_count": 1,
   "id": "d772cc17",
   "metadata": {},
   "outputs": [
    {
     "name": "stdout",
     "output_type": "stream",
     "text": [
      "\u001b[33muser\u001b[0m (to chat_manager):\n",
      "\n",
      "Plan a city break in Barcelona for 2 adults, from 5 July 2025 to 7 July 2025. We love plan the travel route by map agent, plan booking by booking agent, we love vegetarian food. Budget €150 pp per night.\n",
      "\n",
      "--------------------------------------------------------------------------------\n",
      "\u001b[32m\n",
      "Next speaker: planner\n",
      "\u001b[0m\n",
      "\u001b[31m\n",
      ">>>>>>>> USING AUTO REPLY...\u001b[0m\n",
      "\u001b[33mplanner\u001b[0m (to chat_manager):\n",
      "\n",
      "Let's break down the tasks needed to plan your city break in Barcelona:\n",
      "\n",
      "1. **Travel Route**: We need to gather information about the best travel routes to Barcelona. This will be handled by MapAgent.\n",
      "2. **Accommodation**: We need to find suitable accommodation for 2 adults that fits your budget of €150 per person per night. This will be handled by BookingAgent.\n",
      "3. **Food Preferences**: Since you love vegetarian food, we can look into vegetarian dining options in Barcelona.\n",
      "\n",
      "### Next Steps:\n",
      "- I will first ask MapAgent to provide the best travel route to Barcelona.\n",
      "- Then, I will ask BookingAgent to find accommodation options.\n",
      "- Finally, I will gather information on vegetarian restaurants in Barcelona.\n",
      "\n",
      "Let's proceed with MapAgent first.\n",
      "\n",
      "MapAgent, could you provide the best travel route to Barcelona for the specified dates?\n",
      "\n",
      "--------------------------------------------------------------------------------\n",
      "\u001b[32m\n",
      "Next speaker: map_agent\n",
      "\u001b[0m\n",
      "\u001b[31m\n",
      ">>>>>>>> USING AUTO REPLY...\u001b[0m\n",
      "\u001b[33mmap_agent\u001b[0m (to chat_manager):\n",
      "\n",
      "DEFER_TO_PLANNER.\n",
      "\n",
      "--------------------------------------------------------------------------------\n",
      "\u001b[31m\n",
      ">>>>>>>> TERMINATING RUN (857e8a67-f3d3-4a02-81fd-84a33a57c93e): Maximum rounds (3) reached\u001b[0m\n"
     ]
    }
   ],
   "source": [
    "import mcp_hack\n",
    "manager = mcp_hack.plan_city_break(\n",
    "    destination=\"Barcelona\",\n",
    "    start_date=\"5 July 2025\",\n",
    "    end_date=\"7 July 2025\",\n",
    "    adults=2,\n",
    "    preferences=\"plan the travel route by map agent, plan booking by booking agent, we love vegetarian food\",\n",
    "    budget_pp=150,\n",
    "    work_dir=\"scratch\",\n",
    ")\n"
   ]
  }
 ],
 "metadata": {
  "kernelspec": {
   "display_name": "mcphack",
   "language": "python",
   "name": "python3"
  },
  "language_info": {
   "codemirror_mode": {
    "name": "ipython",
    "version": 3
   },
   "file_extension": ".py",
   "mimetype": "text/x-python",
   "name": "python",
   "nbconvert_exporter": "python",
   "pygments_lexer": "ipython3",
   "version": "3.13.2"
  }
 },
 "nbformat": 4,
 "nbformat_minor": 5
}
